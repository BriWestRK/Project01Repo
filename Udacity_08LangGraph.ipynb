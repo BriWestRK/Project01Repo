{
 "cells": [
  {
   "cell_type": "markdown",
   "id": "0ba03d2c-284d-4aa7-81dc-adfb3b48cc86",
   "metadata": {},
   "source": [
    "Introduction to Agents with LangGraph\n",
    "Simple LLM calls are limited by the knowledge the model was trained on. To overcome this, developers use Chains or Agentic Systems to give LLMs more control over application workflows.\n",
    "\n",
    "Chains vs. Agents\n",
    "Chains – Define fixed steps before and after an LLM call, ensuring reliable execution.\n",
    "\n",
    "Agents – Allow the LLM to decide the flow of execution dynamically.\n",
    "\n",
    "Why LangGraph?\n",
    "Giving more control to an LLM reduces reliability—but LangGraph helps maintain reliability while enabling agentic behavior.\n",
    "\n",
    "More flexibility in designing workflows.\n",
    "Clear visibility into control flow (no hidden complex prompts).\n",
    "Supports cycles and persistence, making it suitable for iterative AI workflows.\n",
    "Graphs in LangGraph\n",
    "LangGraph structures workflows as graphs with nodes and edges:\n",
    "\n",
    "Nodes – Python functions that define agent logic.\n",
    "\n",
    "Edges – Python functions that decide which node runs next based on state.\n",
    "\n",
    "Graph-Based AI Workflows\n",
    "Graphs are widely used in AI and data-driven applications:\n",
    "\n",
    "Social Networks – Users (nodes) connected by relationships (edges).\n",
    "E-Commerce – Items and customers as nodes, with purchasing behavior forming edges.\n",
    "In LangGraph, this concept is applied to AI workflows, where decision-making paths are dynamically determined.\n",
    "\n",
    "Integration with LangChain\n",
    "LangGraph works independently, but it integrates seamlessly with LangChain, allowing developers to:\n",
    "\n",
    "Use LangChain components to build nodes and edges.\n",
    "Leverage LangGraph for workflow orchestration.\n",
    "Final Thoughts\n",
    "LangGraph enables structured, agent-driven AI applications while keeping control and reliability in the hands of developers. By combining LangChain and LangGraph, it’s possible to build dynamic, intelligent applications that adapt to user inputs and external data."
   ]
  },
  {
   "cell_type": "code",
   "execution_count": null,
   "id": "c4dfcf66-f33c-418a-948c-6b3331fcf47d",
   "metadata": {},
   "outputs": [],
   "source": []
  },
  {
   "cell_type": "markdown",
   "id": "4fee9abc-84fc-4f10-9bcf-05f9fecdb080",
   "metadata": {},
   "source": [
    "Agentic Workflows with LangGraph\n",
    "Agentic workflows allow LLMs to control execution flow, adapting to user input, conditions, and tools. Unlike fixed Chains, agentic workflows make real-time decisions, improving flexibility and automation.\n",
    "\n",
    "Setting Up the Workflow\n",
    "Instantiate the Model – Define an LLM and optionally bind tools to expand its capabilities.\n",
    "llm_with_tools = llm.bind_tools([tool_a, tool_b, tool_c], tool_choice=\"auto\")\n",
    "Initialize the Graph – Create a StateGraph to track input, output, and intermediate data.\n",
    "workflow = StateGraph(MessagesState)\n",
    "Define Nodes – Each node represents a step in the workflow, processing input and modifying the state.\n",
    "def first_node(state):\n",
    "    return {\"results\": f\"Hello, {state['input']}!\"}\n",
    "workflow.add_node(first_node)\n",
    "Create Edges – Define execution paths between nodes.\n",
    "workflow.add_edge(\"node_a\", \"node_b\")\n",
    "Specify Start and End – Ensure the workflow has a defined entry and exit.\n",
    "workflow.add_edge(START, \"node_a\")\n",
    "workflow.add_edge(\"node_b\", END)\n",
    "Compile the Workflow – Validate structure before execution.\n",
    "graph = workflow.compile()\n",
    "Executing and Visualizing\n",
    "Invoke the workflow with input and configuration.\n",
    "\n",
    "graph.invoke({\"input\": \"Some input\"})\n",
    "Use Mermaid diagrams to visualize the process for debugging and documentation.\n",
    "\n",
    "Final Thoughts\n",
    "LangGraph enables dynamic, AI-driven workflows by combining state tracking, flexible decision-making, and structured execution. By integrating nodes, edges, and visualization, developers can create scalable, intelligent automation."
   ]
  },
  {
   "cell_type": "markdown",
   "id": "5103c09a-e01e-4d5f-83f6-4a04d6d56036",
   "metadata": {},
   "source": [
    "## L3_demo_01_langgraph_workflow\n",
    "\n",
    "1. Basic Data Processing Workflow  \n",
    "a. State Definition  \n",
    "A State class is created by extending TypedDict.\n",
    "State holds:\n",
    "input: integer\n",
    "output: integer\n",
    "class State(TypedDict):\n",
    "  input: int\n",
    "  output: int   \n",
    "b. Node A  \n",
    "Processes the input value.\n",
    "Adds a random offset (1–10) to the input.\n",
    "Updates the output field.\n",
    "def node_a(state):\n",
    "  offset = random.randint(1, 10)\n",
    "  output = state[\"input\"] + offset\n",
    "  return {\"output\": output}  \n",
    "c. Node B  \n",
    "Takes the output of Node A as its input.\n",
    "Adds another random offset.\n",
    "Updates the output field again.\n",
    "def node_b(state):  \n",
    "  offset = random.randint(1, 10)\n",
    "  output = state[\"output\"] + offset\n",
    "  return {\"output\": output}  \n",
    "d. Workflow Construction  \n",
    "A StateGraph is created.\n",
    "Nodes are added.\n",
    "Edges are set:\n",
    "start → node_a → node_b → end\n",
    "workflow = StateGraph(State)\n",
    "workflow.add_node(\"node_a\", node_a)\n",
    "workflow.add_node(\"node_b\", node_b)\n",
    "workflow.add_edge(\"start\", \"node_a\")\n",
    "workflow.add_edge(\"node_a\", \"node_b\")\n",
    "workflow.add_edge(\"node_b\", \"end\")  \n",
    "e. Execution Example  \n",
    "Input: 1\n",
    "Example run:\n",
    "Node A: 1 + offset 1 → output 2\n",
    "Node B: 2 + offset 6 → output 8\n",
    "Each run may vary due to random offsets.\n"
   ]
  },
  {
   "cell_type": "code",
   "execution_count": null,
   "id": "da23931e-7bd4-43eb-b7e8-e5c8013fd978",
   "metadata": {},
   "outputs": [],
   "source": [
    "import random\n",
    "from typing import TypedDict\n",
    "from langgraph.graph import StateGraph, START, END\n",
    "from langchain_core.messages import HumanMessage, SystemMessage\n",
    "from langchain_openai import ChatOpenAI\n",
    "from IPython.display import Image, display"
   ]
  },
  {
   "cell_type": "markdown",
   "id": "ed173b63-7a16-4cfb-9c9d-c9c9b0a4984b",
   "metadata": {},
   "source": [
    "2. LLM-Based Workflow  \n",
    "a. State Definition  \n",
    "A second State class is created for the LLM use case:\n",
    "question: string\n",
    "response: string\n",
    "class State(TypedDict):\n",
    "  question: str\n",
    "  response: str  \n",
    "b. LLM Node  \n",
    "A node uses a chat LLM to answer Pokémon-related questions.\n",
    "Composes messages:  \n",
    "SystemMessage: \"You are a Pokémon specialist.\"\n",
    "HumanMessage: User-provided question.\n",
    "The model generates a response which is stored in the state.\n",
    "def model_node(state):  \n",
    "  messages = [\n",
    "      SystemMessage(content=\"You are a Pokémon specialist.\"),\n",
    "      HumanMessage(content=state[\"question\"])\n",
    "  ]\n",
    "  response = llm.invoke(messages)\n",
    "  return {\"response\": response.content}\n"
   ]
  },
  {
   "cell_type": "code",
   "execution_count": null,
   "id": "58111592-e44f-4d1d-8d1e-771d8a106718",
   "metadata": {},
   "outputs": [],
   "source": [
    "class State(TypedDict):\n",
    "    input: int\n",
    "    output: int"
   ]
  },
  {
   "cell_type": "code",
   "execution_count": null,
   "id": "a5bc38bc-249f-4a13-8b67-14fe6beeff29",
   "metadata": {},
   "outputs": [],
   "source": [
    "def node_a(state: State)->State:\n",
    "    input_value = state['input']\n",
    "    offset = random.randint(1,10)\n",
    "    output =  input_value + offset\n",
    "    print(\n",
    "        f\"NODE A:\\n \"\n",
    "        f\"->input:{input_value}\\n \" \n",
    "        f\"->offset:{offset}\\n \"\n",
    "        f\"->output:{output}\\n \"\n",
    "    )\n",
    "    return State(output=output)\n"
   ]
  },
  {
   "cell_type": "code",
   "execution_count": null,
   "id": "ac392aae-d902-49de-9ac4-1ba2a3a437c4",
   "metadata": {},
   "outputs": [],
   "source": [
    "def node_b(state: State):\n",
    "    input_value = state['output']\n",
    "    offset = random.randint(1,10)\n",
    "    output =  input_value + offset\n",
    "    print(\n",
    "        f\"NODE B:\\n \"\n",
    "        f\"->input:{input_value}\\n \" \n",
    "        f\"->offset:{offset}\\n \"\n",
    "        f\"->output:{output}\\n \"\n",
    "    )\n",
    "    return {\"output\": output}"
   ]
  },
  {
   "cell_type": "markdown",
   "id": "ca211af2-f050-4808-98d7-831efde28731",
   "metadata": {},
   "source": [
    "c. Workflow Construction  \n",
    "Only one node (model) is added.\n",
    "Edges:\n",
    "start → model → end\n",
    "workflow = StateGraph(State)\n",
    "workflow.add_node(\"model\", model_node)\n",
    "workflow.add_edge(\"start\", \"model\")\n",
    "workflow.add_edge(\"model\", \"end\")  \n",
    "d. Execution Example  \n",
    "Question: \"What is the name of Ash's first Pokémon?\"\n",
    "Correct output: \"Ash's first Pokémon is Pikachu.\""
   ]
  },
  {
   "cell_type": "code",
   "execution_count": null,
   "id": "9d6f48c6-9e3f-4057-946d-8dc8cf3ff467",
   "metadata": {},
   "outputs": [],
   "source": [
    "workflow = StateGraph(state_schema=State)"
   ]
  },
  {
   "cell_type": "code",
   "execution_count": null,
   "id": "e0dc3de7-1726-4113-9c5e-5579981af5af",
   "metadata": {},
   "outputs": [],
   "source": [
    "workflow.add_node(node_a)\n",
    "workflow.add_node(node_b)"
   ]
  },
  {
   "cell_type": "code",
   "execution_count": null,
   "id": "4bae106e-9695-412f-92da-d665c216cf7f",
   "metadata": {},
   "outputs": [],
   "source": [
    "workflow.add_edge(START, \"node_a\")\n",
    "workflow.add_edge(\"node_a\", \"node_b\")\n",
    "workflow.add_edge(\"node_b\", END)"
   ]
  },
  {
   "cell_type": "code",
   "execution_count": null,
   "id": "3a8b18fa-f1af-40df-8118-09a62873f562",
   "metadata": {},
   "outputs": [],
   "source": [
    "graph = workflow.compile()"
   ]
  },
  {
   "cell_type": "code",
   "execution_count": null,
   "id": "803f693e-2bd9-4d2b-8476-826405ba5da6",
   "metadata": {},
   "outputs": [],
   "source": [
    "display(\n",
    "    Image(\n",
    "        graph.get_graph().draw_mermaid_png()\n",
    "    )\n",
    ")"
   ]
  },
  {
   "cell_type": "code",
   "execution_count": null,
   "id": "cadb6a76-ab08-4fe0-bc81-aad349558959",
   "metadata": {},
   "outputs": [],
   "source": [
    "graph.invoke(\n",
    "    input = {\n",
    "        \"input\": 1,\n",
    "    }, \n",
    ")"
   ]
  },
  {
   "cell_type": "markdown",
   "id": "409358ad-fc89-492c-805e-32551ac12762",
   "metadata": {},
   "source": [
    "Call LLMs"
   ]
  },
  {
   "cell_type": "code",
   "execution_count": null,
   "id": "959661a1-c94a-466f-b616-aa9421287d84",
   "metadata": {},
   "outputs": [],
   "source": [
    "# or ust use the preset\n",
    "from dotenv import load_dotenv\n",
    "load_dotenv()"
   ]
  },
  {
   "cell_type": "code",
   "execution_count": null,
   "id": "c59c9e32-4a56-4b39-bccc-00598ff82f8f",
   "metadata": {},
   "outputs": [],
   "source": [
    "llm = ChatOpenAI(\n",
    "    model=\"gpt-4o-mini\",\n",
    "    temperature=0.0,\n",
    ")"
   ]
  },
  {
   "cell_type": "code",
   "execution_count": null,
   "id": "93ef1ccd-5da7-4b39-b0d4-b3c82d26296c",
   "metadata": {},
   "outputs": [],
   "source": [
    "class State(TypedDict):\n",
    "    question:str\n",
    "    response:str"
   ]
  },
  {
   "cell_type": "code",
   "execution_count": null,
   "id": "a06e79e9-e4a7-4e09-88d4-3ab1594f9e85",
   "metadata": {},
   "outputs": [],
   "source": [
    "def model(state: State):\n",
    "    question = state[\"question\"]\n",
    "    response = llm.invoke([\n",
    "        SystemMessage(\"You're a Pokémon specialist\"),\n",
    "        HumanMessage(question)\n",
    "    ])\n",
    "\n",
    "    return {\"response\": response.content}"
   ]
  },
  {
   "cell_type": "code",
   "execution_count": null,
   "id": "e535efa0-1b45-4943-80d7-763062e60e38",
   "metadata": {},
   "outputs": [],
   "source": [
    "workflow = StateGraph(State)"
   ]
  },
  {
   "cell_type": "code",
   "execution_count": null,
   "id": "194b4b4f-6827-4e5e-9ec3-7d2208358ccc",
   "metadata": {},
   "outputs": [],
   "source": [
    "workflow.add_node(\"model\", model)"
   ]
  },
  {
   "cell_type": "code",
   "execution_count": null,
   "id": "3ce54bd2-9d94-458d-a460-ea661543d6ec",
   "metadata": {},
   "outputs": [],
   "source": [
    "workflow.add_edge(START, \"model\")\n",
    "workflow.add_edge(\"model\", END)"
   ]
  },
  {
   "cell_type": "code",
   "execution_count": null,
   "id": "1a5e08b3-3de3-4525-84b6-e6c209a89f43",
   "metadata": {},
   "outputs": [],
   "source": [
    "graph = workflow.compile()"
   ]
  },
  {
   "cell_type": "code",
   "execution_count": null,
   "id": "fbc8c049-336a-466c-9d21-f26b8bf7d4c3",
   "metadata": {},
   "outputs": [],
   "source": [
    "display(\n",
    "    Image(\n",
    "        graph.get_graph().draw_mermaid_png()\n",
    "    )\n",
    ")"
   ]
  },
  {
   "cell_type": "code",
   "execution_count": null,
   "id": "5f2cbc7d-61aa-4bd9-900d-31a4333a41a7",
   "metadata": {},
   "outputs": [],
   "source": [
    "result = graph.invoke(\n",
    "    input={\n",
    "        \"question\": \"What's the name of Ash's first pokémon?\"\n",
    "    }, \n",
    ")"
   ]
  },
  {
   "cell_type": "code",
   "execution_count": null,
   "id": "c0df9039-0b12-4e2b-8d28-ef5166420210",
   "metadata": {},
   "outputs": [],
   "source": [
    "result"
   ]
  },
  {
   "cell_type": "markdown",
   "id": "8745d4cd-7e7c-4281-b6e6-f754025f57c1",
   "metadata": {},
   "source": [
    "3. Key Concepts Highlighted  \n",
    "Sequential flow: Data passes from one node to the next.\n",
    "TypedDict states: Enforce predictable data structure across nodes.\n",
    "Node outputs feed node inputs: Node A’s output becomes Node B’s input.\n",
    "Graphs vs. Chains: Unlike LangChain chains, LangGraph explicitly defines nodes and edges for modular flow control.\n",
    "Random vs. Deterministic processing: Shows use of randomness in basic workflows and structured, reproducible behavior in LLM flows.  \n",
    "4. Conclusion  \n",
    "LangGraph enables building modular, sequential workflows for both simple data tasks and complex AI-driven applications.\n",
    "It sets a strong foundation for more advanced multi-node and multi-agent workflows."
   ]
  },
  {
   "cell_type": "code",
   "execution_count": null,
   "id": "114474d4-2372-4a6a-bbac-606417ca072e",
   "metadata": {},
   "outputs": [],
   "source": []
  }
 ],
 "metadata": {
  "kernelspec": {
   "display_name": "Python 3 (ipykernel)",
   "language": "python",
   "name": "python3"
  },
  "language_info": {
   "codemirror_mode": {
    "name": "ipython",
    "version": 3
   },
   "file_extension": ".py",
   "mimetype": "text/x-python",
   "name": "python",
   "nbconvert_exporter": "python",
   "pygments_lexer": "ipython3",
   "version": "3.13.7"
  }
 },
 "nbformat": 4,
 "nbformat_minor": 5
}
