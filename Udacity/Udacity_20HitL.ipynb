{
 "cells": [
  {
   "cell_type": "markdown",
   "id": "ac44cae2-d4f0-4c64-a94b-b077dec367f6",
   "metadata": {},
   "source": [
    "## Summary: Human-in-the-Loop Approvals and Edits in LangGraph Workflows  \n",
    "Overview  \n",
    "This demo introduces human-in-the-loop (HITL) techniques for LangGraph workflows, allowing users to approve, reject, or edit the state before certain actions (like tool calls) proceed. This control mechanism is vital for building safe and supervised AI systems.\n",
    "\n",
    "Key Steps Covered  \n",
    "1. Basic Workflow Structure  \n",
    "a. State Definition\n",
    "The custom state includes:\n",
    "question: str\n",
    "answer: str\n",
    "MessagesState is inherited for managing message history.\n",
    "\n",
    "class State(MessagesState):\n",
    "  question: str\n",
    "  answer: str  \n",
    "b. Nodes\n",
    "Entry Point:\n",
    "Receives the user question and builds system and human messages.\n",
    "Agent Node:\n",
    "Binds the web search tool to the LLM.\n",
    "Invokes the LLM with the current messages.\n",
    "Updates the answer field.\n",
    "def entry_point(state):\n",
    "  ...\n",
    "def agent(state):\n",
    "  ...  \n",
    "c. Router\n",
    "If the latest message contains tool_calls, the workflow proceeds to tools.\n",
    "Otherwise, it terminates.\n",
    "def router(state):\n",
    "  last_message = state[\"messages\"][-1]\n",
    "  return \"tools\" if last_message.tool_calls else END"
   ]
  },
  {
   "cell_type": "code",
   "execution_count": 2,
   "id": "254e46cf-f1d7-43e6-9a07-e11c4e7c560d",
   "metadata": {},
   "outputs": [],
   "source": [
    "import os\n",
    "from typing import Dict\n",
    "from tavily import TavilyClient\n",
    "from langchain_openai import ChatOpenAI\n",
    "from langchain_core.tools import tool\n",
    "from langgraph.checkpoint.memory import MemorySaver\n",
    "from langgraph.graph import MessagesState\n",
    "from langgraph.graph import START, END, StateGraph\n",
    "from langgraph.prebuilt import ToolNode\n",
    "from langgraph.graph.state import CompiledStateGraph\n",
    "from langchain_core.messages import AIMessage, HumanMessage, SystemMessage\n",
    "from IPython.display import Image, display"
   ]
  },
  {
   "cell_type": "code",
   "execution_count": 3,
   "id": "1e9abe80-e3a8-4484-9b1a-1608fb577041",
   "metadata": {},
   "outputs": [],
   "source": [
    "from dotenv import load_dotenv\n",
    "load_dotenv()\n",
    "llm = ChatOpenAI(\n",
    "    model=\"gpt-4o-mini\",\n",
    "    temperature=0.0,\n",
    ")"
   ]
  },
  {
   "cell_type": "code",
   "execution_count": 4,
   "id": "fff476a5-c993-456b-a47a-2ce4683f6cc2",
   "metadata": {},
   "outputs": [],
   "source": [
    "@tool\n",
    "def web_search(question:str)->Dict:\n",
    "    \"\"\"\n",
    "    Return top search results for a given search query\n",
    "    \"\"\"\n",
    "    tavily_client = TavilyClient(api_key=os.getenv(\"TAVILY_API_KEY\"))\n",
    "    response = tavily_client.search(question)\n",
    "    return response"
   ]
  },
  {
   "cell_type": "markdown",
   "id": "768cca74-10ee-46cd-bb88-324dcc9651fc",
   "metadata": {},
   "source": [
    "2. Introducing Breakpoints  \n",
    "During graph compilation, interrupt_before=[\"tools\"] is specified.\n",
    "\n",
    "This pauses the workflow execution before tools are called.\n",
    "\n",
    "Workflow visualization:\n",
    "\n",
    "start → entry_point → agent → [breakpoint] tools → agent → end\n",
    "\n",
    "graph = workflow.compile(interrupt_before=[\"tools\"], checkpointer=memory)\n",
    "Initial example:\n",
    "\n",
    "Question: \"What's the capital of Brazil?\"\n",
    "\n",
    "Workflow pauses after agent identifies a web search is needed."
   ]
  },
  {
   "cell_type": "code",
   "execution_count": 5,
   "id": "22acc644-413b-468c-85b3-3bc0755c0e1f",
   "metadata": {},
   "outputs": [],
   "source": [
    "class State(MessagesState):\n",
    "    question: str\n",
    "    answer: str"
   ]
  },
  {
   "cell_type": "code",
   "execution_count": 6,
   "id": "9dec57d6-03d0-484e-9c94-1d3e91818a7c",
   "metadata": {},
   "outputs": [],
   "source": [
    "llm_with_tools = llm.bind_tools([web_search])"
   ]
  },
  {
   "cell_type": "code",
   "execution_count": 7,
   "id": "bb889882-b1f2-4a71-896a-689900b80e6f",
   "metadata": {},
   "outputs": [],
   "source": [
    "def entry_point(state: State):\n",
    "    question = state[\"question\"]\n",
    "    system_message = SystemMessage(\"You conduct web search to respond to user's questions\")\n",
    "    human_message = HumanMessage(question)\n",
    "    messages = [system_message, human_message]\n",
    "    return {\"messages\": messages}"
   ]
  },
  {
   "cell_type": "code",
   "execution_count": 8,
   "id": "7089613f-d9bd-484f-88fc-c209d6682b85",
   "metadata": {},
   "outputs": [],
   "source": [
    "def agent(state: State):\n",
    "    messages = state[\"messages\"]\n",
    "    ai_message = llm_with_tools.invoke(messages)\n",
    "    return {\"messages\": ai_message, \"answer\": ai_message.content}"
   ]
  },
  {
   "cell_type": "code",
   "execution_count": 9,
   "id": "0711c0a9-9df8-4799-bc15-575853ddb1bc",
   "metadata": {},
   "outputs": [],
   "source": [
    "def router(state: MessagesState):\n",
    "    last_message = state[\"messages\"][-1]\n",
    "    if last_message.tool_calls:\n",
    "        return \"tools\"\n",
    "\n",
    "    return END"
   ]
  },
  {
   "cell_type": "code",
   "execution_count": null,
   "id": "bcbf08ce-b2b8-4808-bdc2-4f7d5e28ddf9",
   "metadata": {},
   "outputs": [
    {
     "data": {
      "text/plain": [
       "<langgraph.graph.state.StateGraph at 0x1e6ac768830>"
      ]
     },
     "execution_count": 10,
     "metadata": {},
     "output_type": "execute_result"
    }
   ],
   "source": [
    "workflow = StateGraph(State)\n",
    "workflow.add_node(\"entry_point\", entry_point)\n",
    "workflow.add_node(\"agent\", agent)\n",
    "workflow.add_node(\"tools\", ToolNode([web_search]))\n",
    "\n",
    "workflow.add_edge(START, \"entry_point\")\n",
    "workflow.add_edge(\"entry_point\", \"agent\")\n",
    "workflow.add_conditional_edges(\n",
    "    source=\"agent\",\n",
    "    path=router,\n",
    "    path_map=[\"tools\", END]\n",
    ")\n",
    "workflow.add_edge(\"tools\", \"agent\")"
   ]
  },
  {
   "cell_type": "code",
   "execution_count": null,
   "id": "933dc612-316e-4f0a-8f9e-3aa2d6592bdb",
   "metadata": {},
   "outputs": [],
   "source": [
    "memory = MemorySaver()\n",
    "graph = workflow.compile(\n",
    "    interrupt_before=[\"tools\"],\n",
    "    checkpointer=memory\n",
    ")"
   ]
  },
  {
   "cell_type": "code",
   "execution_count": 12,
   "id": "d030f724-786a-451f-81d4-c853abf239d2",
   "metadata": {},
   "outputs": [
    {
     "data": {
      "image/png": "[encoded data removed]",
      "text/plain": [
       "<IPython.core.display.Image object>"
      ]
     },
     "metadata": {},
     "output_type": "display_data"
    }
   ],
   "source": [
    "display(\n",
    "    Image(\n",
    "        graph.get_graph().draw_mermaid_png()\n",
    "    )\n",
    ")"
   ]
  },
  {
   "cell_type": "code",
   "execution_count": 13,
   "id": "1d0f0c0a-209a-4f50-8755-ea058e907d45",
   "metadata": {},
   "outputs": [],
   "source": [
    "input_question = {\"question\": \"what's the capital of Brazil?\"}\n",
    "config = {\"configurable\": {\"thread_id\": 1}}"
   ]
  },
  {
   "cell_type": "code",
   "execution_count": 14,
   "id": "d384d5c7-d92d-48d2-83c0-4ae7a69a01d2",
   "metadata": {},
   "outputs": [
    {
     "name": "stdout",
     "output_type": "stream",
     "text": [
      "================================\u001b[1m Human Message \u001b[0m=================================\n",
      "\n",
      "what's the capital of Brazil?\n",
      "==================================\u001b[1m Ai Message \u001b[0m==================================\n",
      "Tool Calls:\n",
      "  web_search (call_LpjIovTVNnmRXbu2GdDyWqfz)\n",
      " Call ID: call_LpjIovTVNnmRXbu2GdDyWqfz\n",
      "  Args:\n",
      "    question: capital of Brazil\n"
     ]
    }
   ],
   "source": [
    "for event in graph.stream(input=input_question, config=config, stream_mode=\"values\"):\n",
    "    if not event['messages']:\n",
    "        continue\n",
    "    event['messages'][-1].pretty_print()"
   ]
  },
  {
   "cell_type": "code",
   "execution_count": 15,
   "id": "fba5d303-86b0-469c-a508-261e8c1bc8a3",
   "metadata": {},
   "outputs": [],
   "source": [
    "state = graph.get_state(config=config)"
   ]
  },
  {
   "cell_type": "code",
   "execution_count": 16,
   "id": "1ad7360d-12d5-47cc-81d2-7cf3005d56e3",
   "metadata": {},
   "outputs": [
    {
     "data": {
      "text/plain": [
       "StateSnapshot(values={'messages': [SystemMessage(content=\"You conduct web search to respond to user's questions\", additional_kwargs={}, response_metadata={}, id='cb894ff8-d6a9-49e5-a0bb-961aa3735527'), HumanMessage(content=\"what's the capital of Brazil?\", additional_kwargs={}, response_metadata={}, id='9b050c2e-c507-4fda-9227-20821a557326'), AIMessage(content='', additional_kwargs={'tool_calls': [{'id': 'call_LpjIovTVNnmRXbu2GdDyWqfz', 'function': {'arguments': '{\"question\":\"capital of Brazil\"}', 'name': 'web_search'}, 'type': 'function'}], 'refusal': None}, response_metadata={'token_usage': {'completion_tokens': 16, 'prompt_tokens': 64, 'total_tokens': 80, 'completion_tokens_details': {'accepted_prediction_tokens': 0, 'audio_tokens': 0, 'reasoning_tokens': 0, 'rejected_prediction_tokens': 0}, 'prompt_tokens_details': {'audio_tokens': 0, 'cached_tokens': 0}}, 'model_name': 'gpt-4o-mini-2024-07-18', 'system_fingerprint': 'fp_560af6e559', 'id': 'chatcmpl-CQbcNN9FAR0qyw0iQSb9VIbAFjbdF', 'service_tier': 'default', 'finish_reason': 'tool_calls', 'logprobs': None}, id='run--523921ea-0292-4a79-b5f7-f6eceb27ede5-0', tool_calls=[{'name': 'web_search', 'args': {'question': 'capital of Brazil'}, 'id': 'call_LpjIovTVNnmRXbu2GdDyWqfz', 'type': 'tool_call'}], usage_metadata={'input_tokens': 64, 'output_tokens': 16, 'total_tokens': 80, 'input_token_details': {'audio': 0, 'cache_read': 0}, 'output_token_details': {'audio': 0, 'reasoning': 0}})], 'question': \"what's the capital of Brazil?\", 'answer': ''}, next=('tools',), config={'configurable': {'thread_id': '1', 'checkpoint_ns': '', 'checkpoint_id': '1f0a915d-50c7-6f96-8002-354e143e9534'}}, metadata={'source': 'loop', 'step': 2, 'parents': {}}, created_at='2025-10-14T15:52:48.225873+00:00', parent_config={'configurable': {'thread_id': '1', 'checkpoint_ns': '', 'checkpoint_id': '1f0a915d-3ee2-67ad-8001-f873e8707241'}}, tasks=(PregelTask(id='ab80c6bc-c6bf-7cc8-1de1-a65c177b1993', name='tools', path=('__pregel_pull', 'tools'), error=None, interrupts=(), state=None, result=None),), interrupts=())"
      ]
     },
     "execution_count": 16,
     "metadata": {},
     "output_type": "execute_result"
    }
   ],
   "source": [
    "state"
   ]
  },
  {
   "cell_type": "code",
   "execution_count": 17,
   "id": "e06afc98-21e4-4823-bf74-1e4eb404b017",
   "metadata": {},
   "outputs": [
    {
     "data": {
      "text/plain": [
       "('tools',)"
      ]
     },
     "execution_count": 17,
     "metadata": {},
     "output_type": "execute_result"
    }
   ],
   "source": [
    "state.next"
   ]
  },
  {
   "cell_type": "code",
   "execution_count": 18,
   "id": "c655cf13-1027-4039-bcf4-a8a98748108d",
   "metadata": {},
   "outputs": [
    {
     "name": "stdout",
     "output_type": "stream",
     "text": [
      "==================================\u001b[1m Ai Message \u001b[0m==================================\n",
      "Tool Calls:\n",
      "  web_search (call_LpjIovTVNnmRXbu2GdDyWqfz)\n",
      " Call ID: call_LpjIovTVNnmRXbu2GdDyWqfz\n",
      "  Args:\n",
      "    question: capital of Brazil\n",
      "=================================\u001b[1m Tool Message \u001b[0m=================================\n",
      "Name: web_search\n",
      "\n",
      "{\"query\": \"capital of Brazil\", \"follow_up_questions\": null, \"answer\": null, \"images\": [], \"results\": [{\"url\": \"https://en.wikipedia.org/wiki/Bras%C3%ADlia\", \"title\": \"Brasília - Wikipedia\", \"content\": \"Brasília is the capital city of Brazil and the Federal District. Located in the Brazilian highlands in the country's Central-West region, it was founded by\", \"score\": 0.8752871, \"raw_content\": null}, {\"url\": \"https://en.wikipedia.org/wiki/Capitals_of_Brazil\", \"title\": \"Capitals of Brazil - Wikipedia\", \"content\": \"Jump to content ## Contents * 1 History * Edit * Edit * Permanent link * Page information * Cite this page * Download QR code Print/export * Download as PDF ## History [edit] The city became the seat of the first Catholic bishopric of Brazil in 1552 and is still the center of Brazilian Catholicism. The new capital, Brasília, was inaugurated as the federal capital on 21 April 1960 after being purpose built for $1.5 billion 1954 USD ($17.2 billion 2023 USD). [edit] [edit] Retrieved 12 February 2024. Retrieved from \\\"\\\" Categories: * Capitals by country * Brazil politics stubs Hidden categories:\", \"score\": 0.8655088, \"raw_content\": null}, {\"url\": \"https://www.abqinternational.org/four-capitals-of-brazil/\", \"title\": \"Four Capitals of Brazil - Albuquerque International Association\", \"content\": \"Rio de Janeiro became the capital of colonial Brazil during its most dynamic development in the 19th century, and it remained capital throughout its serving as seat of the Portuguese empire, as capital of the Brazilian empire, and as capital of the Republic of Brazil, until the mid-twentieth century. Alongside these three official capitals, from early in the 20th century, São Paulo emerges as the major industrial center of Latin America and as the financial capital of Brazil and of Latin America as a whole. Today São Paulo, while Rio remains the historical capital of Brazil and the capital of the tourist imaginary of Brazil, serves as the cultural capital of the country. ## 2025 AIA Membership Join or Renew Your 2025 AIA Membership.\", \"score\": 0.86080295, \"raw_content\": null}, {\"url\": \"https://www.ebsco.com/research-starters/history/brazil-builds-new-capital-city\", \"title\": \"Brazil Builds a New Capital City | Research Starters - EBSCO\", \"content\": \"# Brazil Builds a New Capital City The establishment of Brasília as Brazil's new capital city marked a significant shift in the nation's development strategy. # Brazil Builds a New Capital City *The Brazilian government built its capital city Brasília in the hope of increasing economic growth in the country’s vast interior and of increasing Brazil’s international status. He adopted an economic plan called developmentalism, which centered on the creation of a new capital city in the middle of the country; the capital would lead to the rapid growth of Brazil’s interior.\", \"score\": 0.84918517, \"raw_content\": null}, {\"url\": \"https://www.britannica.com/place/Brasilia\", \"title\": \"Brasilia | Facts, History, Map, & Architecture - Britannica\", \"content\": \"Ask the Chatbot   Games & Quizzes  History & Society  Science & Tech  Biographies  Animals & Nature  Geography & Travel  Arts & Culture  ProCon  Money  Videos # Brasília * Who designed the city of Brasília and what is unique about its layout? **Brasília**, city, federal capital of Brazil. At the northwestern end of the Monumental Axis are federal district and municipal buildings, while at the southeastern end, near the middle shore of Lake Paranoá, stand the executive, judicial, and legislative buildings around the Square of Three Powers, the conceptual heart of the city. Brasília’s inhabitants include both foreigners (notably ambassadorial staff) and Brazilians, some of whom came from economically impoverished areas in the Northeast to take part in the city’s building.\", \"score\": 0.7451949, \"raw_content\": null}], \"response_time\": 0.75, \"request_id\": \"2f7b4c19-6c13-4c82-b5dc-493cc647ecd1\"}\n",
      "==================================\u001b[1m Ai Message \u001b[0m==================================\n",
      "\n",
      "The capital of Brazil is Brasília. It was inaugurated as the federal capital on April 21, 1960, and is located in the Brazilian highlands in the country's Central-West region. For more information, you can visit the [Wikipedia page on Brasília](https://en.wikipedia.org/wiki/Bras%C3%ADlia).\n"
     ]
    }
   ],
   "source": [
    "for event in graph.stream(input=None, config=config, stream_mode=\"values\"):\n",
    "    if not event['messages']:\n",
    "        continue\n",
    "    event['messages'][-1].pretty_print()"
   ]
  },
  {
   "cell_type": "markdown",
   "id": "16a1ef1a-c047-4ffe-a87f-33df1b2491c6",
   "metadata": {},
   "source": [
    "## 3. Human Approval Flow  \n",
    "a. Basic Approval  \n",
    "A function human_in_the_loop_run streams the workflow.\n",
    "\n",
    "After seeing the agent’s intent (e.g., to call a tool), the human is prompted:\n",
    "\n",
    "YES: Continue execution.\n",
    "\n",
    "NO: Abort workflow.\n",
    "\n",
    "\n",
    "human_input = input(\"Do you approve the tool calling? (YES or NO): \")\n",
    "Example:\n",
    "\n",
    "Approving → Continues and retrieves the correct answer.\n",
    "\n",
    "Rejecting → Prints \"Workflow aborted by a human.\"\n",
    "\n",
    "b. More Interactive Control (Human Revision)  \n",
    "Workflow is modified to interrupt before the agent instead of tools.\n",
    "\n",
    "If the user says NO to the initial question:\n",
    "\n",
    "They are prompted to edit the question.\n",
    "\n",
    "A system message (\"Workflow edited by a human\") and a new human message are inserted.\n",
    "\n",
    "\n",
    "human_input = input(\"So what should be the question? \")\n",
    "The graph state is updated with the revised input.\n",
    "\n",
    "Execution then resumes from the updated state.\n",
    "\n",
    "Example:\n",
    "\n",
    "Original: \"What’s the capital of Brazil?\"\n",
    "\n",
    "Edit to: \"What’s the capital of Canada?\"\n",
    "\n",
    "Output: \"The capital of Canada is Ottawa.\""
   ]
  },
  {
   "cell_type": "code",
   "execution_count": null,
   "id": "23b58aea-8636-4a6e-bebc-2a461ddabe5e",
   "metadata": {},
   "outputs": [],
   "source": [
    "def human_in_the_loop_run(graph:CompiledStateGraph, question:str, thread_id:int):\n",
    "    input_question = {\"question\": question}\n",
    "    config = {\"configurable\": {\"thread_id\": thread_id}}\n",
    "    for event in graph.stream(input=input_question, config=config, stream_mode=\"values\"):\n",
    "        if not event['messages']:\n",
    "            continue\n",
    "        event['messages'][-1].pretty_print()\n",
    "\n",
    "    human_input = input(\"Do you approve the tool calling? (YES or NO): \")\n",
    "    if human_input.lower() == \"yes\":\n",
    "        for event in graph.stream(input=None, config=config, stream_mode=\"values\"):\n",
    "            if not event['messages']:\n",
    "                continue\n",
    "            event['messages'][-1].pretty_print()\n",
    "\n",
    "    else:\n",
    "        SystemMessage(\"Workflow aborted by a human\").pretty_print()"
   ]
  },
  {
   "cell_type": "code",
   "execution_count": 20,
   "id": "c9328e45-927f-4243-a3d0-45d97717c09e",
   "metadata": {},
   "outputs": [
    {
     "name": "stdout",
     "output_type": "stream",
     "text": [
      "================================\u001b[1m Human Message \u001b[0m=================================\n",
      "\n",
      "what's the capital of Brazil?\n",
      "==================================\u001b[1m Ai Message \u001b[0m==================================\n",
      "Tool Calls:\n",
      "  web_search (call_zfjj7WsXrrvnfUMXgDTZhS1u)\n",
      " Call ID: call_zfjj7WsXrrvnfUMXgDTZhS1u\n",
      "  Args:\n",
      "    question: What is the capital of Brazil?\n",
      "==================================\u001b[1m Ai Message \u001b[0m==================================\n",
      "Tool Calls:\n",
      "  web_search (call_zfjj7WsXrrvnfUMXgDTZhS1u)\n",
      " Call ID: call_zfjj7WsXrrvnfUMXgDTZhS1u\n",
      "  Args:\n",
      "    question: What is the capital of Brazil?\n",
      "=================================\u001b[1m Tool Message \u001b[0m=================================\n",
      "Name: web_search\n",
      "\n",
      "{\"query\": \"What is the capital of Brazil?\", \"follow_up_questions\": null, \"answer\": null, \"images\": [], \"results\": [{\"url\": \"https://www.facebook.com/ProjectNightfall/posts/whats-the-capital-city-of-brazil/1187126319451177/\", \"title\": \"What's the capital city of Brazil? - Facebook\", \"content\": \"What's the capital city of Brazil? ### **Project Nightfall** What's the capital city of Brazil? What's the capital city of Brazil? Image 1 Image 2 1.8K comments Image 3Author Project Nightfall Project Nightfall replied Image 10Nightfam Image 11Image 12 I am haitian but I did learn this in school i love brazil been a fan of the soccer team since I could speak and walk Salvador de Bahia was the first capital Rio de Janeirowas the second and last Brasília so much history Image 13Image 14 Image 19Image 20 Image 21Image 22 Brasil is in south America and USNA is in North. Image 23Image 24 The capital city of Brazil is Brasília.Image 28: 🇧🇷 Image 32Image 33\", \"score\": 0.9037116, \"raw_content\": null}, {\"url\": \"https://en.wikipedia.org/wiki/Bras%C3%ADlia\", \"title\": \"Brasília - Wikipedia\", \"content\": \"Brasília is the capital city of Brazil and the Federal District. Located in the Brazilian highlands in the country's Central-West region, it was founded by\", \"score\": 0.8969848, \"raw_content\": null}, {\"url\": \"https://www.gov.br/g20/en/about-the-g20/host-cities/brasilia-df\", \"title\": \"Brasília - DF - Portal Gov.br\", \"content\": \"**Brasília** is the capital of Brazil and the seat of government of the Federal District and the federal government. Brasília is the political center of Brazil. The federal capital will host G20 meetings in Brazil. The capital of Brazil is more than just a city, and its construction was a milestone in the history of urbanism, representing the boldness and modernity of a growing nation. • Parque Nacional de Brasília (Água Mineral) - Brasília National Park (Mineral Water) The JK Memorial is dedicated to Brasília's founder, Juscelino Kubitschek, and the Indigenous Peoples Memorial is a tribute to the diverse cultures of the indigenous peoples of Brazil. G20 holds the first Empowerment of Women ministerial meeting in the Forum's history\", \"score\": 0.8934678, \"raw_content\": null}, {\"url\": \"https://en.wikipedia.org/wiki/Capitals_of_Brazil\", \"title\": \"Capitals of Brazil - Wikipedia\", \"content\": \"Jump to content ## Contents * 1 History * Edit * Edit * Permanent link * Page information * Cite this page * Download QR code Print/export * Download as PDF ## History [edit] The city became the seat of the first Catholic bishopric of Brazil in 1552 and is still the center of Brazilian Catholicism. The new capital, Brasília, was inaugurated as the federal capital on 21 April 1960 after being purpose built for $1.5 billion 1954 USD ($17.2 billion 2023 USD). [edit] [edit] Retrieved 12 February 2024. Retrieved from \\\"\\\" Categories: * Capitals by country * Brazil politics stubs Hidden categories:\", \"score\": 0.88178825, \"raw_content\": null}, {\"url\": \"https://www.abqinternational.org/four-capitals-of-brazil/\", \"title\": \"Four Capitals of Brazil - Albuquerque International Association\", \"content\": \"Rio de Janeiro became the capital of colonial Brazil during its most dynamic development in the 19th century, and it remained capital throughout its serving as seat of the Portuguese empire, as capital of the Brazilian empire, and as capital of the Republic of Brazil, until the mid-twentieth century. Alongside these three official capitals, from early in the 20th century, São Paulo emerges as the major industrial center of Latin America and as the financial capital of Brazil and of Latin America as a whole. Today São Paulo, while Rio remains the historical capital of Brazil and the capital of the tourist imaginary of Brazil, serves as the cultural capital of the country. ## 2025 AIA Membership Join or Renew Your 2025 AIA Membership.\", \"score\": 0.875031, \"raw_content\": null}], \"response_time\": 1.19, \"request_id\": \"c1368b9c-dbcf-45d3-879a-7a385cad18a4\"}\n",
      "==================================\u001b[1m Ai Message \u001b[0m==================================\n",
      "\n",
      "The capital of Brazil is Brasília. It was inaugurated as the federal capital on April 21, 1960, and is located in the Central-West region of the country.\n"
     ]
    }
   ],
   "source": [
    "human_in_the_loop_run(\n",
    "    graph=graph,\n",
    "    question=\"what's the capital of Brazil?\",\n",
    "    thread_id=2,\n",
    ")"
   ]
  },
  {
   "cell_type": "code",
   "execution_count": null,
   "id": "1eae12d6-e313-494f-bb7a-f034b602c7c2",
   "metadata": {},
   "outputs": [],
   "source": [
    "human_in_the_loop_run(\n",
    "    graph=graph,\n",
    "    question=\"what's the capital of Mexico?\",\n",
    "    thread_id=3,\n",
    ")"
   ]
  },
  {
   "cell_type": "markdown",
   "id": "e6eb1271-7dd7-4727-bd53-6616a21e4750",
   "metadata": {},
   "source": [
    "## 4. Second Human Step After Tool Messages  \n",
    "After a tool call, the human again can:\n",
    "\n",
    "Review.\n",
    "\n",
    "Continue execution.\n",
    "\n",
    "Potentially enhance logic to approve post-tool actions."
   ]
  },
  {
   "cell_type": "code",
   "execution_count": null,
   "id": "537553d1-4655-4a08-88ee-5cf256f7e09d",
   "metadata": {},
   "outputs": [],
   "source": [
    "memory = MemorySaver()\n",
    "graph = workflow.compile(\n",
    "    interrupt_before=[\"agent\"],\n",
    "    checkpointer=memory\n",
    ")"
   ]
  },
  {
   "cell_type": "code",
   "execution_count": null,
   "id": "56d5741f-03fa-4844-ac69-8657c37382f3",
   "metadata": {},
   "outputs": [],
   "source": [
    "display(\n",
    "    Image(\n",
    "        graph.get_graph().draw_mermaid_png()\n",
    "    )\n",
    ")"
   ]
  },
  {
   "cell_type": "code",
   "execution_count": null,
   "id": "92cdfdff-1ad9-4eb5-b5e2-9a6a8d73b2e2",
   "metadata": {},
   "outputs": [],
   "source": [
    "def human_in_the_loop_run(graph:CompiledStateGraph, question:str, thread_id:int):\n",
    "    input_question = {\"question\": question}\n",
    "    config = {\"configurable\": {\"thread_id\": thread_id}}\n",
    "    for event in graph.stream(input=input_question, config=config, stream_mode=\"values\"):\n",
    "        if not event['messages']:\n",
    "            continue\n",
    "        event['messages'][-1].pretty_print()\n",
    "\n",
    "    human_input = input(\"Do you want to proceed with this question? (YES or NO): \")\n",
    "\n",
    "    if human_input.lower() == \"no\":\n",
    "        human_input = input(\"So what should be the question? \")\n",
    "        human_message = HumanMessage(content=human_input)\n",
    "        system_message = SystemMessage(\"Workflow edited by a human\")\n",
    "        system_message.pretty_print()\n",
    "        graph.update_state(\n",
    "            config=config,\n",
    "            values={\n",
    "                \"messages\": [\n",
    "                    system_message,\n",
    "                    human_message,\n",
    "                ]\n",
    "            },\n",
    "        )\n",
    "\n",
    "        for event in graph.stream(input=None, config=config, stream_mode=\"values\"):\n",
    "            if not event['messages']:\n",
    "                continue\n",
    "            event['messages'][-1].pretty_print()\n",
    "\n",
    "    for event in graph.stream(input=None, config=config, stream_mode=\"values\"):\n",
    "        if not event['messages']:\n",
    "            continue\n",
    "        event['messages'][-1].pretty_print()\n"
   ]
  },
  {
   "cell_type": "code",
   "execution_count": null,
   "id": "1ac5db02-dc64-4146-a5af-b63595ae9482",
   "metadata": {},
   "outputs": [],
   "source": [
    "human_in_the_loop_run(\n",
    "    graph=graph,\n",
    "    question=\"what's the capital of Brazil?\",\n",
    "    thread_id=4,\n",
    ")"
   ]
  },
  {
   "cell_type": "code",
   "execution_count": null,
   "id": "5b466587-d008-41c5-b798-e007299a3a89",
   "metadata": {},
   "outputs": [],
   "source": [
    "human_in_the_loop_run(\n",
    "    graph=graph,\n",
    "    question=\"what's the capital of Brazil?\",\n",
    "    thread_id=5,\n",
    ")"
   ]
  },
  {
   "cell_type": "markdown",
   "id": "ef66afe5-28bd-4c16-a1c1-c35328081be3",
   "metadata": {},
   "source": [
    "## 5. Key Concepts Highlighted  \n",
    "Breakpoints allow controlled interruptions during workflows.\n",
    "\n",
    "Human approvals ensure critical actions (like external API calls) can be supervised.\n",
    "\n",
    "Human edits allow correction of user input before significant processing happens.\n",
    "\n",
    "Thread IDs manage session persistence, enabling inspection and modification across sessions.\n",
    "\n",
    "## 6. Conclusion  \n",
    "Human-in-the-loop mechanisms enhance AI system transparency and safety.\n",
    "\n",
    "LangGraph’s breakpoint and checkpoint features make integrating HITL workflows straightforward.\n",
    "\n",
    "A next enhancement would be extending approval loops after tool messages, enabling full-cycle human supervision."
   ]
  },
  {
   "cell_type": "code",
   "execution_count": null,
   "id": "bcb82276-8e27-44cd-9d6a-0fe35445a069",
   "metadata": {},
   "outputs": [],
   "source": []
  },
  {
   "cell_type": "code",
   "execution_count": null,
   "id": "0958e48b-6050-4f6f-8b97-4227f8e2b6bc",
   "metadata": {},
   "outputs": [],
   "source": []
  }
 ],
 "metadata": {
  "kernelspec": {
   "display_name": ".venv",
   "language": "python",
   "name": "python3"
  },
  "language_info": {
   "codemirror_mode": {
    "name": "ipython",
    "version": 3
   },
   "file_extension": ".py",
   "mimetype": "text/x-python",
   "name": "python",
   "nbconvert_exporter": "python",
   "pygments_lexer": "ipython3",
   "version": "3.13.7"
  }
 },
 "nbformat": 4,
 "nbformat_minor": 5
}
